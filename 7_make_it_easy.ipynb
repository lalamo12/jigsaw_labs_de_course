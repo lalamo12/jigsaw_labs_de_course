{
  "cells": [
    {
      "cell_type": "markdown",
      "metadata": {
        "id": "YRHEcyFnWmMA"
      },
      "source": [
        "# Make it easy"
      ]
    },
    {
      "cell_type": "markdown",
      "metadata": {
        "id": "kcDjlsecWmMC"
      },
      "source": [
        "### Introduction"
      ]
    },
    {
      "cell_type": "markdown",
      "metadata": {
        "id": "REZv6r8NWmMD"
      },
      "source": [
        "We just moved through two tricky topics: loops and nested data structures.  Now believe it or not, loops and nested data structures challenge experienced developers as well as those just starting out.  The difference is that more experienced developers are armed with techniques for making these problems easier.  \n",
        "\n",
        "I promise you that experienced programmers use these techniques all of the time.\n",
        "\n",
        "Even if you can solve the problems in these next lessons without these tips, practice them now so that you can lean on them when problems become more difficult.  Trust me."
      ]
    },
    {
      "cell_type": "markdown",
      "metadata": {
        "id": "UId1_4I9WmMD"
      },
      "source": [
        "### Working with Nested Data"
      ]
    },
    {
      "cell_type": "markdown",
      "metadata": {
        "id": "eN4xf94VWmMD"
      },
      "source": [
        "In the last lesson, we saw that our data often comes in the form a nested dictionary."
      ]
    },
    {
      "cell_type": "code",
      "execution_count": null,
      "metadata": {
        "id": "eb2DA4-dWmMD"
      },
      "outputs": [],
      "source": [
        "jobs = [\n",
        "    {'agency': 'NYC Housing Authority', 'business_title': 'Housing Assistant'},\n",
        "    {'agency': 'Office of Management and Budget', 'business_title': 'Senior Analyst'}\n",
        "]"
      ]
    },
    {
      "cell_type": "markdown",
      "metadata": {
        "id": "nc-sTjkRWmME"
      },
      "source": [
        "In the future, we may encounter data that is nested even further."
      ]
    },
    {
      "cell_type": "code",
      "execution_count": null,
      "metadata": {
        "id": "jZYtvxF8WmME"
      },
      "outputs": [],
      "source": [
        "jobs = [\n",
        "    {'agency': 'NYC Housing Authority', 'business_title': 'Housing Assistant', \n",
        "     'skills_required': ['Excel', 'Word',  'management']},\n",
        "    {'agency': 'Office of Management and Budget', 'business_title': 'Senior Analyst', \n",
        "     'skills_required': ['SQL', 'Excel', 'Python']}\n",
        "]"
      ]
    },
    {
      "cell_type": "markdown",
      "metadata": {
        "id": "L_Idl1aMWmMF"
      },
      "source": [
        "In coding, when problems get harder, the initial instinct is to move faster.  Hard problems can make us nervous, and we want to find out as fast as possible whether or not we can solve them.\n",
        "\n",
        "Experienced programmers do the opposite: \n",
        "\n",
        "> When problems become harder they slow down and find ways to make the problem easier."
      ]
    },
    {
      "cell_type": "markdown",
      "metadata": {
        "id": "IWjYXqX5WmMF"
      },
      "source": [
        "1. Break it into steps"
      ]
    },
    {
      "cell_type": "markdown",
      "metadata": {
        "id": "T1nLRWjWWmMF"
      },
      "source": [
        "Let's say we want to select the first skill required in the first job.  We can solve this problem by breaking it into three problems."
      ]
    },
    {
      "cell_type": "markdown",
      "metadata": {
        "id": "Le9IQs-vWmMF"
      },
      "source": [
        "* Select the first job."
      ]
    },
    {
      "cell_type": "code",
      "execution_count": null,
      "metadata": {
        "id": "-nOv29s5WmMF",
        "outputId": "fa913fa9-73bb-43d9-bbf0-32f3182669d0"
      },
      "outputs": [
        {
          "data": {
            "text/plain": [
              "{'agency': 'NYC Housing Authority',\n",
              " 'business_title': 'Housing Assistant',\n",
              " 'skills_required': ['Excel', 'Word', 'management']}"
            ]
          },
          "execution_count": 3,
          "metadata": {},
          "output_type": "execute_result"
        }
      ],
      "source": [
        "jobs[0]"
      ]
    },
    {
      "cell_type": "markdown",
      "metadata": {
        "id": "Gkqtn5kUWmMG"
      },
      "source": [
        "* Select the skills required from the dictionary"
      ]
    },
    {
      "cell_type": "code",
      "execution_count": null,
      "metadata": {
        "id": "eN8bOJLMWmMG",
        "outputId": "984689f9-371d-41c5-d8d1-7749aa91f011"
      },
      "outputs": [
        {
          "data": {
            "text/plain": [
              "['Excel', 'Word', 'management']"
            ]
          },
          "execution_count": 4,
          "metadata": {},
          "output_type": "execute_result"
        }
      ],
      "source": [
        "jobs[0]['skills_required']"
      ]
    },
    {
      "cell_type": "markdown",
      "metadata": {
        "id": "9AcFXYIOWmMG"
      },
      "source": [
        "* Select the first element from the list."
      ]
    },
    {
      "cell_type": "code",
      "execution_count": null,
      "metadata": {
        "id": "LFaOHn2pWmMG",
        "outputId": "5d40fa90-31e0-4afe-a6f7-b48a1485a525"
      },
      "outputs": [
        {
          "data": {
            "text/plain": [
              "'Excel'"
            ]
          },
          "execution_count": 5,
          "metadata": {},
          "output_type": "execute_result"
        }
      ],
      "source": [
        "jobs[0]['skills_required'][0]"
      ]
    },
    {
      "cell_type": "markdown",
      "metadata": {
        "id": "9giIMxvAWmMG"
      },
      "source": [
        "Practice with breaking down problems into steps is what coding is all about.  Experienced programmers don't solve hard problems by becoming smarter.  They solve hard problems by making the problem easier."
      ]
    },
    {
      "cell_type": "markdown",
      "metadata": {
        "id": "YGyO4Xm5WmMG"
      },
      "source": [
        "Use this technique to access the second skill required from the second job."
      ]
    },
    {
      "cell_type": "code",
      "execution_count": null,
      "metadata": {
        "id": "LDOCFvG1WmMG"
      },
      "outputs": [],
      "source": [
        "jobs = [\n",
        "    {'agency': 'NYC Housing Authority', 'business_title': 'Housing Assistant', \n",
        "     'skills_required': ['Attention to Detail', 'Word',  'management']},\n",
        "    {'agency': 'Office of Management and Budget', 'business_title': 'Senior Analyst', \n",
        "     'skills_required': ['SQL', 'Excel', 'Python']}\n",
        "]"
      ]
    },
    {
      "cell_type": "code",
      "execution_count": null,
      "metadata": {
        "id": "UxWSblr3WmMG"
      },
      "outputs": [],
      "source": [
        "\n",
        "# 'Excel'"
      ]
    },
    {
      "cell_type": "markdown",
      "metadata": {
        "id": "6QsvzqBFWmMH"
      },
      "source": [
        "2. Get feedback"
      ]
    },
    {
      "cell_type": "markdown",
      "metadata": {
        "id": "_ZqI3GiBWmMH"
      },
      "source": [
        "Once you break something into steps, get feedback from the computer every step of the way.  So when you select that first element from the list, press `shift + return` to make sure you did it correctly.  Doing so not only confirms you did it correctly, but it shows you the next component you are working with, a dictionary.  Getting this feedback loop from the computer helps us become unstuck.  You don't need to create a new cell to press shift + return.  Just press `shift + return` between updating the code in your cell."
      ]
    },
    {
      "cell_type": "code",
      "execution_count": null,
      "metadata": {
        "id": "T_a3iRntWmMH",
        "outputId": "37e36fc2-cae4-4058-9c9d-f8b643d7ae70"
      },
      "outputs": [
        {
          "data": {
            "text/plain": [
              "'Excel'"
            ]
          },
          "execution_count": 8,
          "metadata": {},
          "output_type": "execute_result"
        }
      ],
      "source": [
        "jobs[0]['skills_required'][0]"
      ]
    },
    {
      "cell_type": "markdown",
      "metadata": {
        "id": "H6xyZRk-WmMH"
      },
      "source": [
        "So the above line should have involved three `shift + returns`."
      ]
    },
    {
      "cell_type": "markdown",
      "metadata": {
        "id": "X4pseFC5WmMH"
      },
      "source": [
        "### Breaking down Loops"
      ]
    },
    {
      "cell_type": "markdown",
      "metadata": {
        "id": "1Qdgbt0iWmMH"
      },
      "source": [
        "It may not be totally obvious how to break down problems with loops into steps.  After all we can't just write the top line of a loop, and then press `shift + return`.  Python will break."
      ]
    },
    {
      "cell_type": "code",
      "execution_count": null,
      "metadata": {
        "id": "4-eZrqc2WmMH",
        "outputId": "77c79628-47bd-4bcb-bcb2-c53340a52756"
      },
      "outputs": [
        {
          "ename": "SyntaxError",
          "evalue": "unexpected EOF while parsing (<ipython-input-11-06ee34a57517>, line 2)",
          "output_type": "error",
          "traceback": [
            "\u001b[0;36m  File \u001b[0;32m\"<ipython-input-11-06ee34a57517>\"\u001b[0;36m, line \u001b[0;32m2\u001b[0m\n\u001b[0;31m    for cupcake in cupcakes:\u001b[0m\n\u001b[0m                            ^\u001b[0m\n\u001b[0;31mSyntaxError\u001b[0m\u001b[0;31m:\u001b[0m unexpected EOF while parsing\n"
          ]
        }
      ],
      "source": [
        "cupcakes = ['vanilla', 'chocolate', 'strawberry']\n",
        "for cupcake in cupcakes:"
      ]
    },
    {
      "cell_type": "markdown",
      "metadata": {
        "id": "aWrpd0LgWmMH"
      },
      "source": [
        "But writing the first line and then writing the second line isn't really what makes loops hard anyway.  What makes loops tricky is trying to work with an entire collection at once.  So here's how we make this simple.  "
      ]
    },
    {
      "cell_type": "markdown",
      "metadata": {
        "id": "QWQzTEf3WmMH"
      },
      "source": [
        "1. First, solve the problem with just one element"
      ]
    },
    {
      "cell_type": "markdown",
      "metadata": {
        "id": "3BaiQdd1WmMH"
      },
      "source": [
        "So if you're asked to loop through the entire list of cupcakes printing the `'try the'` followed by the cupcake, first solve the problem on just one element.  Then solve it with *every* element.  Let's walk you through this."
      ]
    },
    {
      "cell_type": "code",
      "execution_count": null,
      "metadata": {
        "id": "lcywJCybWmMH"
      },
      "outputs": [],
      "source": [
        "cupcakes = ['vanilla', 'chocolate', 'strawberry']"
      ]
    },
    {
      "cell_type": "code",
      "execution_count": null,
      "metadata": {
        "id": "B9keEBs9WmMI",
        "outputId": "15416d7d-8735-4b1c-ab60-4e29ce3556ed"
      },
      "outputs": [
        {
          "data": {
            "text/plain": [
              "'vanilla'"
            ]
          },
          "execution_count": 15,
          "metadata": {},
          "output_type": "execute_result"
        }
      ],
      "source": [
        "first_cupcake = cupcakes[0]\n",
        "first_cupcake"
      ]
    },
    {
      "cell_type": "code",
      "execution_count": null,
      "metadata": {
        "id": "8EGrPmxnWmMI",
        "outputId": "8274f3fc-f246-416c-e307-c090cd51e07d"
      },
      "outputs": [
        {
          "name": "stdout",
          "output_type": "stream",
          "text": [
            "try the vanilla\n"
          ]
        }
      ],
      "source": [
        "print('try the ' + first_cupcake)"
      ]
    },
    {
      "cell_type": "markdown",
      "metadata": {
        "id": "Q7uN0SicWmMI"
      },
      "source": [
        "Now that it's solved with one element, let's just copy and paste our working line of code and make it the second line of our `for loop`. "
      ]
    },
    {
      "cell_type": "code",
      "execution_count": null,
      "metadata": {
        "id": "3HF1ICYBWmMI",
        "outputId": "ad61d774-9c32-405f-de70-8b4c60aceec9"
      },
      "outputs": [
        {
          "name": "stdout",
          "output_type": "stream",
          "text": [
            "try the vanilla\n",
            "try the vanilla\n",
            "try the vanilla\n"
          ]
        }
      ],
      "source": [
        "for cupcake in cupcakes:\n",
        "    print('try the ' + first_cupcake)"
      ]
    },
    {
      "cell_type": "markdown",
      "metadata": {
        "id": "MlTvlkdoWmMI"
      },
      "source": [
        "Uh oh, we need to change variable in the second line to `cupcake`, our block variable."
      ]
    },
    {
      "cell_type": "code",
      "execution_count": null,
      "metadata": {
        "id": "xDlLYaP4WmMI",
        "outputId": "cf19c228-b5a7-4ccf-d1b2-4fe4b214a400"
      },
      "outputs": [
        {
          "name": "stdout",
          "output_type": "stream",
          "text": [
            "try the vanilla\n",
            "try the chocolate\n",
            "try the strawberry\n"
          ]
        }
      ],
      "source": [
        "for cupcake in cupcakes:\n",
        "    print('try the ' + cupcake)"
      ]
    },
    {
      "cell_type": "markdown",
      "metadata": {
        "id": "xMV4MiwMWmMI"
      },
      "source": [
        "Below, we solved capitalizing our statement from earlier.  Wrap it in a `for loop` and change the variable from `first_cupcake` to do this for every element. "
      ]
    },
    {
      "cell_type": "markdown",
      "metadata": {
        "id": "Zi5priQmWmMI"
      },
      "source": [
        "> Press shift + return below."
      ]
    },
    {
      "cell_type": "code",
      "execution_count": null,
      "metadata": {
        "id": "koNsN0_5WmMI"
      },
      "outputs": [],
      "source": [
        "cupcakes = ['vanilla', 'chocolate', 'strawberry']"
      ]
    },
    {
      "cell_type": "code",
      "execution_count": null,
      "metadata": {
        "id": "FzKokvhSWmMI",
        "outputId": "032c85ca-946e-4485-ccc4-ddda67be2164"
      },
      "outputs": [
        {
          "ename": "NameError",
          "evalue": "name 'first_cupcake' is not defined",
          "output_type": "error",
          "traceback": [
            "\u001b[0;31m---------------------------------------------------------------------------\u001b[0m",
            "\u001b[0;31mNameError\u001b[0m                                 Traceback (most recent call last)",
            "\u001b[0;32m<ipython-input-3-81b62a15a788>\u001b[0m in \u001b[0;36m<module>\u001b[0;34m\u001b[0m\n\u001b[0;32m----> 1\u001b[0;31m \u001b[0mprint\u001b[0m\u001b[0;34m(\u001b[0m\u001b[0;34m'Try The '\u001b[0m \u001b[0;34m+\u001b[0m \u001b[0mfirst_cupcake\u001b[0m\u001b[0;34m.\u001b[0m\u001b[0mcapitalize\u001b[0m\u001b[0;34m(\u001b[0m\u001b[0;34m)\u001b[0m\u001b[0;34m)\u001b[0m\u001b[0;34m\u001b[0m\u001b[0;34m\u001b[0m\u001b[0m\n\u001b[0m",
            "\u001b[0;31mNameError\u001b[0m: name 'first_cupcake' is not defined"
          ]
        }
      ],
      "source": [
        "print('Try The ' + first_cupcake.capitalize())"
      ]
    },
    {
      "cell_type": "markdown",
      "metadata": {
        "id": "DmHV-T21WmMI"
      },
      "source": [
        "2. Seeing is believing"
      ]
    },
    {
      "cell_type": "markdown",
      "metadata": {
        "id": "2V9ZWNbhWmMI"
      },
      "source": [
        "In the next lesson, we'll break down looping through a list of dictionaries.  One thing that makes looping through dictionaries tricky is that it can be difficult to keep track of what each element is."
      ]
    },
    {
      "cell_type": "code",
      "execution_count": null,
      "metadata": {
        "id": "szZL0Wh1WmMI"
      },
      "outputs": [],
      "source": [
        "jobs = [\n",
        "    {'agency': 'NYC Housing Authority', 'business_title': 'Housing Assistant', \n",
        "     'skills_required': ['Excel', 'Word',  'management']},\n",
        "    {'agency': 'Office of Management and Budget', 'business_title': 'Senior Analyst', \n",
        "     'skills_required': ['SQL', 'Excel', 'Python']}\n",
        "]"
      ]
    },
    {
      "cell_type": "markdown",
      "metadata": {
        "id": "Fr2z_arpWmMI"
      },
      "source": [
        "A good way to solve this is to have a print statement help us out."
      ]
    },
    {
      "cell_type": "code",
      "execution_count": null,
      "metadata": {
        "id": "TLHYSUqxWmMJ",
        "outputId": "b135dc31-81d6-42fe-d0fd-b77ac2a95201"
      },
      "outputs": [
        {
          "name": "stdout",
          "output_type": "stream",
          "text": [
            "{'agency': 'NYC Housing Authority', 'business_title': 'Housing Assistant', 'skills_required': ['Excel', 'Word', 'management']}\n",
            "{'agency': 'Office of Management and Budget', 'business_title': 'Senior Analyst', 'skills_required': ['SQL', 'Excel', 'Python']}\n"
          ]
        }
      ],
      "source": [
        "for job in jobs:\n",
        "    print(job)"
      ]
    },
    {
      "cell_type": "markdown",
      "metadata": {
        "id": "NWJgjiVcWmMJ"
      },
      "source": [
        "So our `for loop` moves through each element.  And because we are printing our block variable, `job`, we know what job represents - a dictionary.  "
      ]
    },
    {
      "cell_type": "markdown",
      "metadata": {
        "id": "rZnwYACXWmMJ"
      },
      "source": [
        "At this point, we can make things even more concrete by adding in a comment of what the job represents."
      ]
    },
    {
      "cell_type": "code",
      "execution_count": null,
      "metadata": {
        "id": "Tith9TquWmMJ",
        "outputId": "bc9096c1-b9da-4465-b625-6660e13b89dc"
      },
      "outputs": [
        {
          "name": "stdout",
          "output_type": "stream",
          "text": [
            "{'agency': 'NYC Housing Authority', 'business_title': 'Housing Assistant', 'skills_required': ['Excel', 'Word', 'management']}\n",
            "{'agency': 'Office of Management and Budget', 'business_title': 'Senior Analyst', 'skills_required': ['SQL', 'Excel', 'Python']}\n"
          ]
        }
      ],
      "source": [
        "for job in jobs:\n",
        "    # job -> {'agency': 'NYC Housing Authority', 'business_title': 'Housing Assistant', 'skills_required': ['Excel', 'Word', 'management']}\n",
        "    print(job)"
      ]
    },
    {
      "cell_type": "markdown",
      "metadata": {
        "id": "xMrkD3qIWmMJ"
      },
      "source": [
        "So the comment above is telling me that my block variable represents a dictionary, and I have commented out the first dictionary it represents, before moving onto the second one. "
      ]
    },
    {
      "cell_type": "markdown",
      "metadata": {
        "id": "4y2XtwA2WmMJ"
      },
      "source": [
        "And now because my block variable is right in front of me as a dictionary, I know how to access information from it. "
      ]
    },
    {
      "cell_type": "code",
      "execution_count": null,
      "metadata": {
        "id": "pUTW4JX1WmMJ",
        "outputId": "f41d9d0d-215b-46c2-9db7-4804d80b7f7a"
      },
      "outputs": [
        {
          "name": "stdout",
          "output_type": "stream",
          "text": [
            "Senior Developer\n",
            "Junior Developer\n"
          ]
        }
      ],
      "source": [
        "for job in jobs:\n",
        "    # job -> {'agency': 'NYC Housing Authority', 'business_title': 'Housing Assistant', 'skills_required': ['Excel', 'Word', 'management']}\n",
        "    print(job['title'])"
      ]
    },
    {
      "cell_type": "markdown",
      "metadata": {
        "id": "zmi-7AG9WmMJ"
      },
      "source": [
        "But we'll work through this in the next lesson."
      ]
    },
    {
      "cell_type": "markdown",
      "metadata": {
        "id": "0C8Gg_FLWmMJ"
      },
      "source": [
        "### Summary"
      ]
    },
    {
      "cell_type": "markdown",
      "metadata": {
        "id": "7Ug7lZY9WmMJ"
      },
      "source": [
        "In this lesson, we reviewed nested dictionaries and loops, and learned some coding tips for making the problems in front of easier.  Oftentimes, the instinct may be to move faster through tasks we are unsure we can accomplish.  Instead, think like an experienced programmer - make the problem easier.  Here's how."
      ]
    },
    {
      "cell_type": "markdown",
      "metadata": {
        "id": "4_i7JGDPWmMJ"
      },
      "source": [
        "1. Break it into steps\n",
        "2. Get feedback"
      ]
    },
    {
      "cell_type": "markdown",
      "metadata": {
        "id": "umYPp-_QWmMJ"
      },
      "source": [
        "> Eg. From the first job, select the first skill required."
      ]
    },
    {
      "cell_type": "code",
      "execution_count": null,
      "metadata": {
        "id": "2ff3DrQ1WmMJ",
        "outputId": "bee0b6f1-c939-4746-b007-71aefe3d6799"
      },
      "outputs": [
        {
          "data": {
            "text/plain": [
              "'Excel'"
            ]
          },
          "execution_count": 13,
          "metadata": {},
          "output_type": "execute_result"
        }
      ],
      "source": [
        "jobs[0]['skills_required'][0] # at least three steps"
      ]
    },
    {
      "cell_type": "markdown",
      "metadata": {
        "id": "f-GO4DuTWmMJ"
      },
      "source": [
        "Here, feedback means pressing shift + enter before completing the problem, but for each of the three steps."
      ]
    },
    {
      "cell_type": "markdown",
      "metadata": {
        "id": "QNZXcrH8WmMJ"
      },
      "source": [
        "3. Seeing is believing"
      ]
    },
    {
      "cell_type": "markdown",
      "metadata": {
        "id": "WPv42_hpWmMJ"
      },
      "source": [
        "One good thing about pressing `shift + enter` is it often shows us the output.  Remember how assigning a variable can be confusing.  That's because we can't see the result.  If you are unsure what something is look. "
      ]
    },
    {
      "cell_type": "code",
      "execution_count": null,
      "metadata": {
        "id": "CKWYlqwLWmMJ",
        "outputId": "122b7421-d0f6-4130-d30b-00907e847764"
      },
      "outputs": [
        {
          "data": {
            "text/plain": [
              "[{'agency': 'NYC Housing Authority',\n",
              "  'business_title': 'Housing Assistant',\n",
              "  'skills_required': ['Excel', 'Word', 'management']},\n",
              " {'agency': 'Office of Management and Budget',\n",
              "  'business_title': 'Senior Analyst',\n",
              "  'skills_required': ['SQL', 'Excel', 'Python']}]"
            ]
          },
          "execution_count": 14,
          "metadata": {},
          "output_type": "execute_result"
        }
      ],
      "source": [
        "jobs"
      ]
    },
    {
      "cell_type": "markdown",
      "metadata": {
        "id": "VRY7GXMBWmMJ"
      },
      "source": [
        "In loops, this means use a print statement."
      ]
    },
    {
      "cell_type": "code",
      "execution_count": null,
      "metadata": {
        "id": "ppd0n1ioWmMK",
        "outputId": "3f39799c-7c2e-4951-e181-194b3b225d85"
      },
      "outputs": [
        {
          "name": "stdout",
          "output_type": "stream",
          "text": [
            "{'title': 'Senior Developer', 'company': 'Postmates', 'skills_required': ['loops', 'strings', 'lists']}\n",
            "{'title': 'Junior Developer', 'company': 'Bento Box', 'skills_required': ['numbers', 'dictionaries']}\n"
          ]
        }
      ],
      "source": [
        "for job in jobs:\n",
        "    print(job)"
      ]
    },
    {
      "cell_type": "markdown",
      "metadata": {
        "id": "JVRmD7fsWmMK"
      },
      "source": [
        "4.Do one, then all"
      ]
    },
    {
      "cell_type": "markdown",
      "metadata": {
        "id": "XFtF551wWmMK"
      },
      "source": [
        "Need to print out the title for every job in the loop, but find this hard?  Then forget about that for now, and just work with one element.  "
      ]
    },
    {
      "cell_type": "code",
      "execution_count": null,
      "metadata": {
        "id": "PdaUiesoWmMK",
        "outputId": "6dd8e144-89b2-4d57-8859-f4abe2f0974d"
      },
      "outputs": [
        {
          "data": {
            "text/plain": [
              "{'agency': 'NYC Housing Authority',\n",
              " 'business_title': 'Housing Assistant',\n",
              " 'skills_required': ['Excel', 'Word', 'management']}"
            ]
          },
          "execution_count": 15,
          "metadata": {},
          "output_type": "execute_result"
        }
      ],
      "source": [
        "first_job = jobs[0]\n",
        "first_job"
      ]
    },
    {
      "cell_type": "code",
      "execution_count": null,
      "metadata": {
        "id": "o2nQOgV7WmMK",
        "outputId": "64b71148-35fc-4e3c-e8e3-063f9510cec5"
      },
      "outputs": [
        {
          "name": "stdout",
          "output_type": "stream",
          "text": [
            "Housing Assistant\n"
          ]
        }
      ],
      "source": [
        "print(first_job['business_title'])"
      ]
    },
    {
      "cell_type": "markdown",
      "metadata": {
        "id": "QlQkYNH_WmMK"
      },
      "source": [
        "Now copy and paste below and wrap it in a loop."
      ]
    },
    {
      "cell_type": "code",
      "execution_count": null,
      "metadata": {
        "id": "igfiAxHSWmMK",
        "outputId": "3d1b91f2-b7ed-49ad-fd37-9fd5af7afe39"
      },
      "outputs": [
        {
          "name": "stdout",
          "output_type": "stream",
          "text": [
            "Housing Assistant\n",
            "Senior Analyst\n"
          ]
        }
      ],
      "source": [
        "for job in jobs:\n",
        "    # changed the block variable from first_job -> job\n",
        "    print(job['business_title'])"
      ]
    },
    {
      "cell_type": "markdown",
      "metadata": {
        "id": "zwXJOwEpWmMK"
      },
      "source": [
        "<right> \n",
        "<a href=\"https://colab.research.google.com/github/jigsawlabs-student/code-intro/blob/master/8-looping-through-live-data.ipynb\">\n",
        "<img src=\"https://github.com/jigsawlabs-student/code-intro/blob/master/next-yellow.jpg?raw=1\" align=\"right\" style=\"padding-right: 20px\" width=\"10%\">\n",
        "    </a>\n",
        "</right>"
      ]
    },
    {
      "cell_type": "markdown",
      "metadata": {
        "id": "nwFvDT0JWmMK"
      },
      "source": [
        "<center>\n",
        "<a href=\"https://www.jigsawlabs.io\" style=\"position: center\"><img src=\"https://github.com/jigsawlabs-student/code-intro/blob/master/jigsaw-icon.png?raw=1\" width=\"15%\" style=\"text-align: center\"></a>\n",
        "</center>"
      ]
    }
  ],
  "metadata": {
    "kernelspec": {
      "display_name": "Python 3",
      "language": "python",
      "name": "python3"
    },
    "language_info": {
      "codemirror_mode": {
        "name": "ipython",
        "version": 3
      },
      "file_extension": ".py",
      "mimetype": "text/x-python",
      "name": "python",
      "nbconvert_exporter": "python",
      "pygments_lexer": "ipython3",
      "version": "3.8.8"
    },
    "colab": {
      "provenance": []
    }
  },
  "nbformat": 4,
  "nbformat_minor": 0
}