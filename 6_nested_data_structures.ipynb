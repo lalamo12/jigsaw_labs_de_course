{
  "cells": [
    {
      "cell_type": "markdown",
      "metadata": {
        "id": "-h4b3FCWP6V2"
      },
      "source": [
        "# Working with Nested Data"
      ]
    },
    {
      "cell_type": "markdown",
      "metadata": {
        "id": "n6STeQT9P6V6"
      },
      "source": [
        "### Introduction"
      ]
    },
    {
      "cell_type": "markdown",
      "metadata": {
        "id": "gLlLLx6_P6V6"
      },
      "source": [
        "Believe it or not, we are now ready to work with data from the web."
      ]
    },
    {
      "cell_type": "markdown",
      "metadata": {
        "id": "TX-if4fhP6V7"
      },
      "source": [
        "Do you feel ready?  Good."
      ]
    },
    {
      "cell_type": "markdown",
      "metadata": {
        "id": "BKQ_BApsP6V7"
      },
      "source": [
        "## Getting Our Data"
      ]
    },
    {
      "cell_type": "markdown",
      "metadata": {
        "id": "4GZFCg6DP6V7"
      },
      "source": [
        "When we get data in the real world, it often comes in the same format: a list of dictionaries.  Good thing for us, we know lists and we know dictionaries.\n",
        "\n",
        "Let's see this by way of example.  Below is the web address of a website that lists jobs opening from the City of New York."
      ]
    },
    {
      "cell_type": "markdown",
      "metadata": {
        "id": "-M_xEMxtP6V8"
      },
      "source": [
        "https://data.cityofnewyork.us/resource/kpav-sd4t.json"
      ]
    },
    {
      "cell_type": "markdown",
      "metadata": {
        "id": "thsCtfKsP6V8"
      },
      "source": [
        "If we go there, we'll see something like the following:"
      ]
    },
    {
      "cell_type": "markdown",
      "metadata": {
        "id": "EkOMJUe1P6V8"
      },
      "source": [
        "<img src=\"https://github.com/jigsawlabs-student/code-intro/blob/master/job_listings.png?raw=1\" width=\"100%\">"
      ]
    },
    {
      "cell_type": "markdown",
      "metadata": {
        "id": "DkVX3TjmP6V9"
      },
      "source": [
        "> When we go to that URL above, and getting back information, we are accessing an API.  APIs are really cool because they allow programmers to access information gathered by other companies.  For example, above we are getting a list of job openings from Github's API.  If you'd like to see different kinds of data we can get from APIs, [click here](https://github.com/public-apis/public-apis)."
      ]
    },
    {
      "cell_type": "markdown",
      "metadata": {
        "id": "n3tXST2lP6V9"
      },
      "source": [
        "Ok, so that mix of text above may look like a mess, but really it is just a list of dictionaries, where each dictionary is a separate position.  If we simplify it a little, the data takes the following form:"
      ]
    },
    {
      "cell_type": "markdown",
      "metadata": {
        "id": "c_znOS6VP6V9"
      },
      "source": [
        "```python\n",
        "[\n",
        "    {'agency': 'NYC Housing Authority', 'business_title': 'housing assistant'},\n",
        "    {'agency': 'Office of Management and Budget', 'business_title': 'senior analyst'}\n",
        "]\n",
        "```"
      ]
    },
    {
      "cell_type": "markdown",
      "metadata": {
        "id": "Y5nMMpVyP6V-"
      },
      "source": [
        "And while reading through all of the original data is not sustainable, asking questions of a list of dictionaries is.  In fact, we do it all of the time in programming."
      ]
    },
    {
      "cell_type": "markdown",
      "metadata": {
        "id": "0Idc_5hnP6V-"
      },
      "source": [
        "So let's learn how to ask questions of a list of dictionaries as it's great training working with data from the Internet."
      ]
    },
    {
      "cell_type": "markdown",
      "metadata": {
        "id": "mMBMfDv2P6V-"
      },
      "source": [
        "## Let's get a job"
      ]
    },
    {
      "cell_type": "markdown",
      "metadata": {
        "id": "nCOy6BqzP6V-"
      },
      "source": [
        "* First review"
      ]
    },
    {
      "cell_type": "markdown",
      "metadata": {
        "id": "3x0plbpSP6V_"
      },
      "source": [
        "Remember with a dictionary, we use the squiggly brackets to create the dictionary `{}`."
      ]
    },
    {
      "cell_type": "code",
      "execution_count": null,
      "metadata": {
        "id": "PSM4qMmzP6V_"
      },
      "outputs": [],
      "source": [
        "nyc_job = {'agency': 'NYC Housing Authority', 'business_title': 'housing assistant'}"
      ]
    },
    {
      "cell_type": "markdown",
      "metadata": {
        "id": "StawjjjMP6WA"
      },
      "source": [
        "> Press shift + enter to assign the dictionary to `developer_job`."
      ]
    },
    {
      "cell_type": "markdown",
      "metadata": {
        "id": "eIffwoemP6WA"
      },
      "source": [
        "And we use the square brackets to access data from a dictionary."
      ]
    },
    {
      "cell_type": "code",
      "execution_count": null,
      "metadata": {
        "id": "fPAUcPDfP6WA",
        "outputId": "df26a88c-ffc2-4323-d8ed-094baa805f6e"
      },
      "outputs": [
        {
          "data": {
            "text/plain": [
              "'housing assistant'"
            ]
          },
          "execution_count": 5,
          "metadata": {},
          "output_type": "execute_result"
        }
      ],
      "source": [
        "nyc_job['business_title']"
      ]
    },
    {
      "cell_type": "markdown",
      "metadata": {
        "id": "IL3gkze4P6WB"
      },
      "source": [
        "> As we said, we think of this as asking questions of our dictionary.  Hey `nyc_job`, what is the `'business_title'` of the job? \n",
        "\n",
        "And our dictionary responds with `housing assistant`."
      ]
    },
    {
      "cell_type": "markdown",
      "metadata": {
        "id": "0dApxyhEP6WB"
      },
      "source": [
        "* Now for nested data"
      ]
    },
    {
      "cell_type": "markdown",
      "metadata": {
        "id": "OYkTxhMGP6WB"
      },
      "source": [
        "Ok, now below we assign a a list of jobs to the variable `jobs`."
      ]
    },
    {
      "cell_type": "code",
      "execution_count": null,
      "metadata": {
        "id": "E41s5Uh9P6WB",
        "outputId": "ab08fc22-4a72-44fb-c66e-58f145c620fd"
      },
      "outputs": [
        {
          "data": {
            "text/plain": [
              "[{'agency': 'NYC Housing Authority', 'business_title': 'Housing Assistant'},\n",
              " {'agency': 'Office of Management and Budget',\n",
              "  'business_title': 'Senior Analyst'}]"
            ]
          },
          "execution_count": 11,
          "metadata": {},
          "output_type": "execute_result"
        }
      ],
      "source": [
        "jobs = [\n",
        "    {'agency': 'NYC Housing Authority', 'business_title': 'Housing Assistant'},\n",
        "    {'agency': 'Office of Management and Budget', 'business_title': 'Senior Analyst'}\n",
        "]\n",
        "\n",
        "jobs"
      ]
    },
    {
      "cell_type": "markdown",
      "metadata": {
        "id": "e4st3tJEP6WB"
      },
      "source": [
        "Remember that we use the index to retreive a specific element from a list.  Ok, let's ask our list above for the first job."
      ]
    },
    {
      "cell_type": "markdown",
      "metadata": {
        "id": "D5tXfO9YP6WB"
      },
      "source": [
        "> Press shift + return below."
      ]
    },
    {
      "cell_type": "code",
      "execution_count": null,
      "metadata": {
        "id": "Qdz4CXLoP6WC",
        "outputId": "bafdb905-5f65-49f8-ddf2-168ce1d6efec"
      },
      "outputs": [
        {
          "data": {
            "text/plain": [
              "{'agency': 'NYC Housing Authority', 'business_title': 'housing assistant'}"
            ]
          },
          "execution_count": 7,
          "metadata": {},
          "output_type": "execute_result"
        }
      ],
      "source": [
        "jobs[0]"
      ]
    },
    {
      "cell_type": "markdown",
      "metadata": {
        "id": "5jUON1V6P6WC"
      },
      "source": [
        "> It gives us the first element in the list, the dictionary representing the job from the `NYC Housing Authority`."
      ]
    },
    {
      "cell_type": "markdown",
      "metadata": {
        "id": "6zeCYtVGP6WC"
      },
      "source": [
        "Now, on your own, access the second element from the list of jobs in the cell below."
      ]
    },
    {
      "cell_type": "markdown",
      "metadata": {
        "id": "v38squ9XP6WC"
      },
      "source": [
        "> Think about asking the `jobs` list a question.  If you're correct, you'll see the return value below the cell match what we have commented out."
      ]
    },
    {
      "cell_type": "code",
      "execution_count": null,
      "metadata": {
        "id": "uOb8CmSAP6WC"
      },
      "outputs": [],
      "source": [
        "\n",
        "\n",
        "# {'agency': 'Office of Management and Budget',  'business_title': 'senior analyst'}"
      ]
    },
    {
      "cell_type": "markdown",
      "metadata": {
        "id": "CsD5wBWiP6WC"
      },
      "source": [
        "### More complicated"
      ]
    },
    {
      "cell_type": "markdown",
      "metadata": {
        "id": "bUVUKIoCP6WC"
      },
      "source": [
        "Now let's try to dig further inside of this list."
      ]
    },
    {
      "cell_type": "code",
      "execution_count": null,
      "metadata": {
        "id": "Vnw9kbxiP6WC",
        "outputId": "01b11d94-f6b4-4882-c23c-807080153ad0"
      },
      "outputs": [
        {
          "data": {
            "text/plain": [
              "[{'agency': 'NYC Housing Authority', 'business_title': 'Housing Assistant'},\n",
              " {'agency': 'Office of Management and Budget',\n",
              "  'business_title': 'Senior Analyst'}]"
            ]
          },
          "execution_count": 12,
          "metadata": {},
          "output_type": "execute_result"
        }
      ],
      "source": [
        "jobs = [\n",
        "    {'agency': 'NYC Housing Authority', 'business_title': 'Housing Assistant'},\n",
        "    {'agency': 'Office of Management and Budget', 'business_title': 'Senior Analyst'}\n",
        "]\n",
        "jobs"
      ]
    },
    {
      "cell_type": "markdown",
      "metadata": {
        "id": "JVhg-udtP6WC"
      },
      "source": [
        "We'll start by trying to select the `title` of the **last element**, which is `Senior Analyst`.  Notice that we can't do this directly.  All we are starting with is a variable that points to the list of `jobs`.  \n",
        "\n",
        "But in that list of `jobs`, as it's last element is the dictionary representing the second job, and inside that dictionary is the `business_title` of `Senior Analyst`."
      ]
    },
    {
      "cell_type": "markdown",
      "metadata": {
        "id": "zvkiHJRwP6WD"
      },
      "source": [
        "So to get there, we need to ask two questions:"
      ]
    },
    {
      "cell_type": "markdown",
      "metadata": {
        "id": "UhawXxHlP6WD"
      },
      "source": [
        "1. Hey, `jobs`, what's your second element\n",
        "2. Hey second element, what's your `business_title`"
      ]
    },
    {
      "cell_type": "markdown",
      "metadata": {
        "id": "OJG2zK67P6WD"
      },
      "source": [
        "`jobs -> second job -> title`"
      ]
    },
    {
      "cell_type": "markdown",
      "metadata": {
        "id": "0of0A9KHP6WD"
      },
      "source": [
        "So that's the path we need to go through to access our data.  Let's try it."
      ]
    },
    {
      "cell_type": "markdown",
      "metadata": {
        "id": "e-GMWheeP6WD"
      },
      "source": [
        "1. Start with the list of jobs and ask for the second element"
      ]
    },
    {
      "cell_type": "code",
      "execution_count": null,
      "metadata": {
        "id": "Sy0aRQKXP6WD",
        "outputId": "5e66c463-d670-41da-8bed-359f3596cd5d"
      },
      "outputs": [
        {
          "data": {
            "text/plain": [
              "{'agency': 'Office of Management and Budget',\n",
              " 'business_title': 'Senior Analyst'}"
            ]
          },
          "execution_count": 13,
          "metadata": {},
          "output_type": "execute_result"
        }
      ],
      "source": [
        "jobs[1]"
      ]
    },
    {
      "cell_type": "markdown",
      "metadata": {
        "id": "CYYz15TCP6WD"
      },
      "source": [
        "2. Now that we have the second element, ask for the `business_title`"
      ]
    },
    {
      "cell_type": "code",
      "execution_count": null,
      "metadata": {
        "id": "jXXW2EIaP6WD",
        "outputId": "3f9ed94b-59c7-46f1-8fc9-93d8d2a2c9c0"
      },
      "outputs": [
        {
          "data": {
            "text/plain": [
              "'Senior Analyst'"
            ]
          },
          "execution_count": 15,
          "metadata": {},
          "output_type": "execute_result"
        }
      ],
      "source": [
        "jobs[1]['business_title']"
      ]
    },
    {
      "cell_type": "markdown",
      "metadata": {
        "id": "XWHY6b1bP6WD"
      },
      "source": [
        "> Notice that there are no spaces in the line above."
      ]
    },
    {
      "cell_type": "markdown",
      "metadata": {
        "id": "bigX08xFP6WD"
      },
      "source": [
        "### A little analogy"
      ]
    },
    {
      "cell_type": "markdown",
      "metadata": {
        "id": "8D5X5ZxnP6WE"
      },
      "source": [
        "So we accessed this information with the following logic:"
      ]
    },
    {
      "cell_type": "markdown",
      "metadata": {
        "id": "VFQlrMT8P6WE"
      },
      "source": [
        "`jobs -> second job -> business_title`"
      ]
    },
    {
      "cell_type": "markdown",
      "metadata": {
        "id": "BkDWv5kSP6WE"
      },
      "source": [
        "Now for an analogy.  Let's think of our data as a mailbox."
      ]
    },
    {
      "cell_type": "markdown",
      "metadata": {
        "id": "EYZ0NddPP6WE"
      },
      "source": [
        "<img src=\"https://github.com/jigsawlabs-student/code-intro/blob/master/mailboxes.jpg?raw=1\" width = 30%>"
      ]
    },
    {
      "cell_type": "code",
      "execution_count": null,
      "metadata": {
        "id": "3up8ZDGMP6WE",
        "outputId": "8b8844a1-94a8-410f-8931-a32cca703c70"
      },
      "outputs": [
        {
          "data": {
            "text/plain": [
              "[{'agency': 'NYC Housing Authority', 'business_title': 'Housing Assistant'},\n",
              " {'agency': 'Office of Management and Budget',\n",
              "  'business_title': 'Senior Analyst'}]"
            ]
          },
          "execution_count": 16,
          "metadata": {},
          "output_type": "execute_result"
        }
      ],
      "source": [
        "jobs = [\n",
        "    {'agency': 'NYC Housing Authority', 'business_title': 'Housing Assistant'},\n",
        "    {'agency': 'Office of Management and Budget', 'business_title': 'Senior Analyst'}\n",
        "]\n",
        "jobs"
      ]
    },
    {
      "cell_type": "markdown",
      "metadata": {
        "id": "ToVlehOVP6WE"
      },
      "source": [
        "* The whole gray mailbox represents the list of **jobs**.  \n",
        "* Each door contains a different element in our list.  \n",
        "* Then inside the mailbox representing a specific job, there are different pieces of information about that job."
      ]
    },
    {
      "cell_type": "markdown",
      "metadata": {
        "id": "49uaNloKP6WE"
      },
      "source": [
        "``jobs -> second job -> title``"
      ]
    },
    {
      "cell_type": "code",
      "execution_count": null,
      "metadata": {
        "id": "JAJADTYxP6WE",
        "outputId": "ec774fc6-1dd7-4ab1-f6b5-04323bbdc4a8"
      },
      "outputs": [
        {
          "data": {
            "text/plain": [
              "'Python Programmer'"
            ]
          },
          "execution_count": 108,
          "metadata": {},
          "output_type": "execute_result"
        }
      ],
      "source": [
        "jobs[1]['title']"
      ]
    },
    {
      "cell_type": "markdown",
      "metadata": {
        "id": "DG3oSk3aP6WE"
      },
      "source": [
        "Ok, now it's your turn to practice.  Once again, here is our list of jobs."
      ]
    },
    {
      "cell_type": "code",
      "execution_count": null,
      "metadata": {
        "id": "yPYw6AR_P6WE"
      },
      "outputs": [],
      "source": [
        "jobs = [\n",
        "    {'agency': 'NYC Housing Authority', 'business_title': 'Housing Assistant'},\n",
        "    {'agency': 'Office of Management and Budget', 'business_title': 'Senior Analyst'}\n",
        "]"
      ]
    },
    {
      "cell_type": "markdown",
      "metadata": {
        "id": "oXByWhFUP6WF"
      },
      "source": [
        "Select the agency related to the first job.  You'll see it's correct if pressing `shift + return` returns the string `'NYC Housing Authority'`. "
      ]
    },
    {
      "cell_type": "code",
      "execution_count": null,
      "metadata": {
        "id": "WX39BLqGP6WF"
      },
      "outputs": [],
      "source": [
        "\n",
        "\n",
        "# 'NYC Housing Authority'"
      ]
    },
    {
      "cell_type": "markdown",
      "metadata": {
        "id": "NDoZol4MP6WF"
      },
      "source": [
        "If you were able to do this, congratulations :)  You are certainly on your way.  The reason why being able to work with nested data structures is so important is because we see them so often on the web.\n",
        "\n",
        "In fact let's go get some live jobs data right now."
      ]
    },
    {
      "cell_type": "markdown",
      "metadata": {
        "id": "HnHwNRDhP6WF"
      },
      "source": [
        "### Wrapping Up"
      ]
    },
    {
      "cell_type": "code",
      "execution_count": null,
      "metadata": {
        "id": "RcoH1JE8P6WF"
      },
      "outputs": [],
      "source": [
        "import pandas as pd\n",
        "url = \"https://data.cityofnewyork.us/resource/kpav-sd4t.json\"\n",
        "jobs_df = pd.read_json(url)\n",
        "internet_jobs = jobs_df.to_dict('records')"
      ]
    },
    {
      "cell_type": "markdown",
      "metadata": {
        "id": "qSTuFgvuP6WF"
      },
      "source": [
        "> Press shift + return on the cell above.\n",
        "\n",
        "Guess what, we just gathered a list of jobs from the Internet.  Now if we look at the entire list we'll see that it's too much information to handle.  In fact, let's just look at the first dictionary."
      ]
    },
    {
      "cell_type": "code",
      "execution_count": null,
      "metadata": {
        "id": "CMeve4s_P6WF"
      },
      "outputs": [],
      "source": [
        "internet_jobs[0]"
      ]
    },
    {
      "cell_type": "markdown",
      "metadata": {
        "id": "4AGJizFHP6WF"
      },
      "source": [
        "  "
      ]
    },
    {
      "cell_type": "markdown",
      "metadata": {
        "id": "2AQu0nNSP6WF"
      },
      "source": [
        "**But** it's just a dictionary, so we can use the same logic as before to select information from the first dictionary in the list -- `internet_jobs[0]['company']`."
      ]
    },
    {
      "cell_type": "code",
      "execution_count": null,
      "metadata": {
        "id": "cJJ6Ior-P6WF"
      },
      "outputs": [],
      "source": [
        "internet_jobs[0]['agency']"
      ]
    },
    {
      "cell_type": "markdown",
      "metadata": {
        "id": "TfSuCRytP6WF"
      },
      "source": [
        "> So you can see that by knowing how to navigate a list of dictionaries, we can browse data that comes from the Internet."
      ]
    },
    {
      "cell_type": "markdown",
      "metadata": {
        "id": "QOwX_KukP6WF"
      },
      "source": [
        "Try accessing the `agency` from the second element in our `internet_jobs` list."
      ]
    },
    {
      "cell_type": "code",
      "execution_count": null,
      "metadata": {
        "id": "j8LogBxiP6WG"
      },
      "outputs": [],
      "source": []
    },
    {
      "cell_type": "markdown",
      "metadata": {
        "id": "sWLTMPkCP6WG"
      },
      "source": [
        "And in fact, we can use a loop to print out a list of all of the companies we should reach out to.  "
      ]
    },
    {
      "cell_type": "code",
      "execution_count": null,
      "metadata": {
        "id": "Z_I4yfyYP6WG",
        "outputId": "238b0d13-8321-4838-f88c-efe4aafe7e57"
      },
      "outputs": [
        {
          "name": "stdout",
          "output_type": "stream",
          "text": [
            "<p>Email your resume to <a href=\"mailto:tucker.matheson@markacy.com\">tucker.matheson@markacy.com</a></p>\n",
            "\n",
            "<p>APPLY HERE: <a href=\"https://us-strozfriedberg-aon.icims.com/jobs/24315/senior-developer/job\">https://us-strozfriedberg-aon.icims.com/jobs/24315/senior-developer/job</a></p>\n",
            "\n",
            "<p><a href=\"https://jobs.lever.co/sesamecare/26d259b5-5bcc-4ee9-a5d0-068d9c856381?lever-origin=applied&amp;lever-source%5B%5D=GitHub\">https://jobs.lever.co/sesamecare/26d259b5-5bcc-4ee9-a5d0-068d9c856381?lever-origin=applied&amp;lever-source%5B%5D=GitHub</a></p>\n",
            "\n",
            "<p>Apply Here: <a href=\"http://www.Click2apply.net/cyg9sy9m99zdm9v2\">http://www.Click2apply.net/cyg9sy9m99zdm9v2</a></p>\n",
            "\n"
          ]
        }
      ],
      "source": [
        "for job in internet_jobs:\n",
        "     print(job['to_apply'])"
      ]
    },
    {
      "cell_type": "markdown",
      "metadata": {
        "id": "-JF_78raP6WG"
      },
      "source": [
        "> But we're getting ahead of ourselves.  We'll dedicate future lessons to looping through a list of dictionaries."
      ]
    },
    {
      "cell_type": "markdown",
      "metadata": {
        "id": "sxzAO4LvP6WG"
      },
      "source": [
        "### Summary"
      ]
    },
    {
      "cell_type": "markdown",
      "metadata": {
        "id": "q15SXAnMP6WG"
      },
      "source": [
        "In this lesson, we saw how to work with nested data structures.  We saw that we can represent a table of data as a list of dictionaries."
      ]
    },
    {
      "cell_type": "code",
      "execution_count": null,
      "metadata": {
        "id": "fubTO4aRP6WG"
      },
      "outputs": [],
      "source": [
        "jobs = [\n",
        "    {'agency': 'NYC Housing Authority', 'business_title': 'Housing Assistant'},\n",
        "    {'agency': 'Office of Management and Budget', 'business_title': 'Senior Analyst'}\n",
        "]"
      ]
    },
    {
      "cell_type": "markdown",
      "metadata": {
        "id": "99c4vJXTP6WG"
      },
      "source": [
        "And we can select this data by working from the outside in.  So if we want to get the company of a specific job, we take the following path."
      ]
    },
    {
      "cell_type": "markdown",
      "metadata": {
        "id": "yhHszxUsP6WG"
      },
      "source": [
        "`jobs -> first job -> agency`"
      ]
    },
    {
      "cell_type": "code",
      "execution_count": null,
      "metadata": {
        "id": "TMd5cgHsP6WG",
        "outputId": "62eb75f2-46c3-4e61-d312-6d4fccd3b56e"
      },
      "outputs": [
        {
          "data": {
            "text/plain": [
              "'NYC Housing Authority'"
            ]
          },
          "execution_count": 22,
          "metadata": {},
          "output_type": "execute_result"
        }
      ],
      "source": [
        "jobs[0]['agency']"
      ]
    },
    {
      "cell_type": "markdown",
      "metadata": {
        "id": "ENccy3XKP6WG"
      },
      "source": [
        "If you feel like you need some more practice with this, take some time and practice.  In the next, lesson, we'll learn how to loop through our data."
      ]
    },
    {
      "cell_type": "markdown",
      "metadata": {
        "id": "X9swJ7MWP6WH"
      },
      "source": [
        "> For more practice click on the video below."
      ]
    },
    {
      "cell_type": "markdown",
      "metadata": {
        "id": "-FLxZVVlP6WH"
      },
      "source": [
        "[Nested data review video](https://www.youtube.com/watch?v=OPry8oI-bg0&list=PLCG6Te769p1gkVJizwSmo6GoEI9oHoAPA&index=15&ab_channel=JigsawLabs)"
      ]
    },
    {
      "cell_type": "markdown",
      "metadata": {
        "id": "QZTzfH9qP6WH"
      },
      "source": [
        "<right> \n",
        "<a href=\"https://colab.research.google.com/github/jigsawlabs-student/code-intro/blob/master/7-make-it-easy.ipynb\">\n",
        "<img src=\"https://github.com/jigsawlabs-student/code-intro/blob/master/next-yellow.jpg?raw=1\" align=\"right\" style=\"padding-right: 20px\" width=\"10%\">\n",
        "    </a>\n",
        "</right>"
      ]
    },
    {
      "cell_type": "markdown",
      "metadata": {
        "id": "zy37a5QQP6WH"
      },
      "source": [
        "<center>\n",
        "<a href=\"https://www.jigsawlabs.io\" style=\"position: center\"><img src=\"https://github.com/jigsawlabs-student/code-intro/blob/master/jigsaw-icon.png?raw=1\" width=\"15%\" style=\"text-align: center\"></a>\n",
        "</center>"
      ]
    },
    {
      "cell_type": "markdown",
      "metadata": {
        "id": "WiMWQdKCP6WH"
      },
      "source": [
        "### Answers"
      ]
    },
    {
      "cell_type": "code",
      "execution_count": null,
      "metadata": {
        "id": "KnkefzKSP6WH"
      },
      "outputs": [],
      "source": [
        "jobs = [{'company': 'Postmates', 'title': 'Senior Developer'},\n",
        " {'company': 'Bento Box', 'title': 'Python Programmer'}]"
      ]
    },
    {
      "cell_type": "code",
      "execution_count": null,
      "metadata": {
        "id": "bGuWGZziP6WH",
        "outputId": "a1465e0d-ef4e-460a-c434-72c5187d0aa2"
      },
      "outputs": [
        {
          "data": {
            "text/plain": [
              "{'company': 'Bento Box', 'title': 'Python Programmer'}"
            ]
          },
          "execution_count": 163,
          "metadata": {},
          "output_type": "execute_result"
        }
      ],
      "source": [
        "jobs[1]"
      ]
    },
    {
      "cell_type": "code",
      "execution_count": null,
      "metadata": {
        "id": "pIcMkmq-P6WH",
        "outputId": "3c78122d-3824-4521-b595-51e4ace854a7"
      },
      "outputs": [
        {
          "data": {
            "text/plain": [
              "'Postmates'"
            ]
          },
          "execution_count": 165,
          "metadata": {},
          "output_type": "execute_result"
        }
      ],
      "source": [
        "jobs[0]['company']"
      ]
    },
    {
      "cell_type": "code",
      "execution_count": null,
      "metadata": {
        "id": "CM56viHBP6WH"
      },
      "outputs": [],
      "source": [
        "internet_jobs[1]['company']"
      ]
    }
  ],
  "metadata": {
    "kernelspec": {
      "display_name": "Python 3",
      "language": "python",
      "name": "python3"
    },
    "language_info": {
      "codemirror_mode": {
        "name": "ipython",
        "version": 3
      },
      "file_extension": ".py",
      "mimetype": "text/x-python",
      "name": "python",
      "nbconvert_exporter": "python",
      "pygments_lexer": "ipython3",
      "version": "3.8.8"
    },
    "colab": {
      "provenance": []
    }
  },
  "nbformat": 4,
  "nbformat_minor": 0
}