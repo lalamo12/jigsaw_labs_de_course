{
  "cells": [
    {
      "cell_type": "markdown",
      "metadata": {
        "id": "lt2-oYjxJUYi"
      },
      "source": [
        "# Looping Through Live Data"
      ]
    },
    {
      "cell_type": "markdown",
      "metadata": {
        "id": "TcfnDYFSJUYl"
      },
      "source": [
        "### Introduction"
      ]
    },
    {
      "cell_type": "markdown",
      "metadata": {
        "id": "d96WA_FEJUYl"
      },
      "source": [
        "In this lesson, it's time to work with some live data gathered from Wikipedia! "
      ]
    },
    {
      "cell_type": "markdown",
      "metadata": {
        "id": "aL1oZoUsJUYl"
      },
      "source": [
        "### Getting our Data"
      ]
    },
    {
      "cell_type": "markdown",
      "metadata": {
        "id": "W3LTtickJUYm"
      },
      "source": [
        "Ok, now let's get some data from our [Wikipedia page of city populations](https://en.wikipedia.org/wiki/List_of_United_States_cities_by_population)."
      ]
    },
    {
      "cell_type": "markdown",
      "metadata": {
        "id": "LJM6MqmPJUYm"
      },
      "source": [
        "<img src=\"https://github.com/jigsawlabs-student/code-intro/blob/master/top_cities.png?raw=1\">"
      ]
    },
    {
      "cell_type": "markdown",
      "metadata": {
        "id": "Q1OwwXFPJUYm"
      },
      "source": [
        "Now as we would expect, this data will come as a list of dictionaries.  Each row above represents a different dictionary of key value pairs, and we place each of these rows in a list."
      ]
    },
    {
      "cell_type": "markdown",
      "metadata": {
        "id": "hKXc4bnfJUYm"
      },
      "source": [
        "```python\n",
        "cities = [\n",
        "     {'City': 'New York', '2020census': 8804190},\n",
        "    {'City': 'Los Angeles', '2020census': 3898747}\n",
        "]\n",
        "```"
      ]
    },
    {
      "cell_type": "markdown",
      "metadata": {
        "id": "n9uy7kXtJUYn"
      },
      "source": [
        "It's time to gather our data in the cell below.  Let's skip over what this code is doing until the next lesson.  For now, the important thing is how to work with this data that we collect."
      ]
    },
    {
      "cell_type": "markdown",
      "metadata": {
        "id": "esDDVK04JUYn"
      },
      "source": [
        "> Press shift + return on the cell below."
      ]
    },
    {
      "cell_type": "code",
      "execution_count": null,
      "metadata": {
        "id": "xJcwu-5sJUYn"
      },
      "outputs": [],
      "source": [
        "import pandas as pd\n",
        "tables = pd.read_html('https://en.wikipedia.org/wiki/List_of_United_States_cities_by_population')\n",
        "cities_df = tables[4]\n",
        "cities = cities_df.to_dict('records')"
      ]
    },
    {
      "cell_type": "markdown",
      "metadata": {
        "id": "DQP63XoTJUYo"
      },
      "source": [
        "We expect that this code is a list of dictionaries, with each row of data being represented as a separate dictionary.  Let's just slice the first two elements from the list to take a look."
      ]
    },
    {
      "cell_type": "markdown",
      "metadata": {
        "id": "xkhGvCdyJUYo"
      },
      "source": [
        "> Press shift + enter."
      ]
    },
    {
      "cell_type": "code",
      "execution_count": null,
      "metadata": {
        "id": "cKeYW9fJJUYo",
        "outputId": "f3a84466-d055-45d3-9a40-34f7a6b987c1"
      },
      "outputs": [
        {
          "data": {
            "text/plain": [
              "[{'2020rank': 1,\n",
              "  'City': 'New York[d]',\n",
              "  'State[c]': 'New York',\n",
              "  '2020census': 8804190,\n",
              "  '2010census': 8175133,\n",
              "  'Change': '+7.69%',\n",
              "  '2016 land area': '301.5\\xa0sq\\xa0mi',\n",
              "  '2016 land area.1': '780.9\\xa0km2',\n",
              "  '2016 population density': '28,317/sq\\xa0mi',\n",
              "  '2016 population density.1': '10,933/km2',\n",
              "  'Location': '.mw-parser-output .geo-default,.mw-parser-output .geo-dms,.mw-parser-output .geo-dec{display:inline}.mw-parser-output .geo-nondefault,.mw-parser-output .geo-multi-punct{display:none}.mw-parser-output .longitude,.mw-parser-output .latitude{white-space:nowrap}40°40′N 73°56′W\\ufeff / \\ufeff40.66°N 73.93°W'},\n",
              " {'2020rank': 2,\n",
              "  'City': 'Los Angeles',\n",
              "  'State[c]': 'California',\n",
              "  '2020census': 3898747,\n",
              "  '2010census': 3792621,\n",
              "  'Change': '+2.80%',\n",
              "  '2016 land area': '468.7\\xa0sq\\xa0mi',\n",
              "  '2016 land area.1': '1,213.9\\xa0km2',\n",
              "  '2016 population density': '8,484/sq\\xa0mi',\n",
              "  '2016 population density.1': '3,276/km2',\n",
              "  'Location': '34°01′N 118°25′W\\ufeff / \\ufeff34.01°N 118.41°W'}]"
            ]
          },
          "execution_count": 2,
          "metadata": {},
          "output_type": "execute_result"
        }
      ],
      "source": [
        "cities[0:2]"
      ]
    },
    {
      "cell_type": "markdown",
      "metadata": {
        "id": "4u5q_P_cJUYp"
      },
      "source": [
        "Next, let's get some practice by selecting just the data we want from this list.  Our list is stored in the variable `cities`.  Select the `2020census` of the first city."
      ]
    },
    {
      "cell_type": "code",
      "execution_count": null,
      "metadata": {
        "id": "4oG751DeJUYp"
      },
      "outputs": [],
      "source": [
        "first_pop = None\n",
        "first_pop\n",
        "\n",
        "# 8398748"
      ]
    },
    {
      "cell_type": "markdown",
      "metadata": {
        "id": "C0F8aUUJJUYp"
      },
      "source": [
        "Then select the `2020census` population of the second city."
      ]
    },
    {
      "cell_type": "code",
      "execution_count": null,
      "metadata": {
        "id": "4xmYb2ecJUYp",
        "outputId": "66162e2c-87fc-47c9-f31e-41ea62755796"
      },
      "outputs": [
        {
          "data": {
            "text/plain": [
              "3898747"
            ]
          },
          "execution_count": 4,
          "metadata": {},
          "output_type": "execute_result"
        }
      ],
      "source": [
        "second_pop = None\n",
        "second_pop\n",
        "# 3898747"
      ]
    },
    {
      "cell_type": "markdown",
      "metadata": {
        "id": "by86zFZCJUYp"
      },
      "source": [
        "### Our goal"
      ]
    },
    {
      "cell_type": "markdown",
      "metadata": {
        "id": "qnIfO68nJUYp"
      },
      "source": [
        "Now, our goal is to get the population not just of one city but **of every city**.  This is a common task in programming.  Our dictionaries often comes to us with lots of information we don't need, so we need to loop through each dictionary to just to get to the information that we want. \n",
        "\n",
        "Here's how."
      ]
    },
    {
      "cell_type": "markdown",
      "metadata": {
        "id": "3x-yKw40JUYp"
      },
      "source": [
        "> We added some comments to show you what each variable is equal to as you move through the code."
      ]
    },
    {
      "cell_type": "code",
      "execution_count": null,
      "metadata": {
        "id": "NjTp4GXdJUYp",
        "outputId": "656e3336-25de-4c40-c105-57cc3fb5c8d3"
      },
      "outputs": [
        {
          "name": "stdout",
          "output_type": "stream",
          "text": [
            "New York[d]\n",
            "Los Angeles\n"
          ]
        }
      ],
      "source": [
        "two_cities = cities[0:2]\n",
        "two_cities\n",
        "# [\n",
        "#     {'City': 'New York', '2020census': 8804190}\n",
        "#    {'City': 'Los Angeles', '2020census': 3898747}\n",
        "# ]\n",
        "\n",
        "for top_city in two_cities:\n",
        "    # top_city -> {'City': 'New York', '2020census': 8398748}\n",
        "    city_name = top_city['City']\n",
        "    print(city_name)"
      ]
    },
    {
      "cell_type": "markdown",
      "metadata": {
        "id": "dkQUzkggJUYq"
      },
      "source": [
        "The key thing to realize in the code above is that each element of the list is a dictionary.  So our `for loop` grabs each dictionary one by one, calls it `top_city`, and then selects just the information it wants from that city."
      ]
    },
    {
      "cell_type": "markdown",
      "metadata": {
        "id": "U44x-y7LJUYq"
      },
      "source": [
        "<img src=\"https://github.com/jigsawlabs-student/code-intro/blob/master/mailboxes.jpg?raw=1\" width = 30%>"
      ]
    },
    {
      "cell_type": "markdown",
      "metadata": {
        "id": "KwoG1lQBJUYq"
      },
      "source": [
        "If we think of our set of mailboxes being the list of dictionaries again.  Then with a for loop, we no longer have to worry about selecting the correct mailbox.  Our `for loop`, opens each mailbox, one by one, and gives us access to that mailbox with the name of the `block variable`, `top_city`.  Then, we repeatedly ask each mailbox for the same information."
      ]
    },
    {
      "cell_type": "markdown",
      "metadata": {
        "id": "zVZkQSa9JUYq"
      },
      "source": [
        "With that in mind try to talk through what happens in each line of code below."
      ]
    },
    {
      "cell_type": "code",
      "execution_count": null,
      "metadata": {
        "id": "WGrkkIaVJUYq",
        "outputId": "b8b35513-831e-48d1-8155-02c75f5a2b17"
      },
      "outputs": [
        {
          "name": "stdout",
          "output_type": "stream",
          "text": [
            "New York[d]\n",
            "Los Angeles\n"
          ]
        }
      ],
      "source": [
        "# [\n",
        "#     {'City': 'New York', '2020census': 8804190},\n",
        "#    {'City': 'Los Angeles', '2020census': 3898747},\n",
        "# ]\n",
        "\n",
        "\n",
        "two_cities = cities[0:2]\n",
        "\n",
        "for city in two_cities:\n",
        "    # top_city -> {'City': 'New York', '2020census': 8804190}\n",
        "    city_name = city['City']\n",
        "    print(city_name)\n"
      ]
    },
    {
      "cell_type": "markdown",
      "metadata": {
        "id": "SFv1mRqvJUYq"
      },
      "source": [
        "Ok, now it's your turn.  Loop through the first six cities selecting just the `2020census` population from each one.  We get you started by slicing the first `six_cities` as a list."
      ]
    },
    {
      "cell_type": "code",
      "execution_count": null,
      "metadata": {
        "id": "gCZ4YSPTJUYq"
      },
      "outputs": [],
      "source": [
        "six_cities = cities[0:6]\n",
        "#  [\n",
        "#     {'City': 'New York', '2020census': 8804190},\n",
        "#    {'City': 'Los Angeles', '2020census': 3898747},\n",
        "#    ...\n",
        "# ]\n",
        "# write your code in the lines below\n",
        "\n",
        "\n",
        "\n",
        "\n",
        "# for each city in our list of cities \n",
        "# select and print out the 2020census from the city"
      ]
    },
    {
      "cell_type": "markdown",
      "metadata": {
        "id": "U0q1ubFTJUYq"
      },
      "source": [
        "> In the cell below, I copied the code from above for you to reference. "
      ]
    },
    {
      "cell_type": "code",
      "execution_count": null,
      "metadata": {
        "id": "eHafzILyJUYq",
        "outputId": "d08ec30b-d4f9-48d3-df93-292d2eb00bca"
      },
      "outputs": [
        {
          "name": "stdout",
          "output_type": "stream",
          "text": [
            "New York[d]\n",
            "Los Angeles\n"
          ]
        }
      ],
      "source": [
        "two_cities = cities[0:2]\n",
        "\n",
        "for city in two_cities:\n",
        "    # {'City': 'New York', '2020census': 8804190}\n",
        "    city_name = city['City']\n",
        "    print(city_name)\n"
      ]
    },
    {
      "cell_type": "markdown",
      "metadata": {
        "id": "v6qzxeDjJUYq"
      },
      "source": [
        "### Summary"
      ]
    },
    {
      "cell_type": "markdown",
      "metadata": {
        "id": "EQcTXHdzJUYq"
      },
      "source": [
        "In this lesson we learned how to start with a list of dictionaries, and go through each one to select just the data that we want, and print out that data.  \n",
        "\n",
        "```python\n",
        "for city in cities:\n",
        "    city_pop = city['2020census']\n",
        "    print(city_pop)\n",
        "```\n",
        "\n",
        "The key point is to realize that our block variable `each_city` represents each dictionary.  So in the code above, we access the population value for the dictionary and then print out that value, and thne do the same for the second dictionary, and so on.  \n",
        "\n",
        "In the next lesson, we'll see how to hold onto those values of populations by adding them to a list of populations, and also adding each city name to a list of names.  Then we can use these two lists to create plots of our data."
      ]
    },
    {
      "cell_type": "markdown",
      "metadata": {
        "id": "XgowAgXSJUYr"
      },
      "source": [
        "<right> \n",
        "<a href=\"https://colab.research.google.com/github/jigsawlabs-student/code-intro/blob/master/9-loops-to-lists.ipynb\">\n",
        "<img src=\"https://github.com/jigsawlabs-student/code-intro/blob/master/next-yellow.jpg?raw=1\" align=\"right\" style=\"padding-right: 20px\" width=\"10%\">\n",
        "    </a>\n",
        "</right>"
      ]
    },
    {
      "cell_type": "markdown",
      "metadata": {
        "id": "5o9kl9cJJUYr"
      },
      "source": [
        "<center>\n",
        "<a href=\"https://www.jigsawlabs.io\" style=\"position: center\"><img src=\"https://github.com/jigsawlabs-student/code-intro/blob/master/jigsaw-icon.png?raw=1\" width=\"15%\" style=\"text-align: center\"></a>\n",
        "</center>"
      ]
    },
    {
      "cell_type": "markdown",
      "metadata": {
        "id": "gax-SV85JUYr"
      },
      "source": [
        "[Looping through nested data video](https://www.youtube.com/watch?v=2wdAejD86A0&list=PLCG6Te769p1gkVJizwSmo6GoEI9oHoAPA&index=22&ab_channel=JigsawLabs)"
      ]
    },
    {
      "cell_type": "markdown",
      "metadata": {
        "id": "7YM3npsSJUYr"
      },
      "source": [
        "### Answers"
      ]
    },
    {
      "cell_type": "code",
      "execution_count": null,
      "metadata": {
        "id": "mC6mUvJkJUYr",
        "outputId": "27a59804-df08-49ad-c0e5-1a88479f3562"
      },
      "outputs": [
        {
          "name": "stdout",
          "output_type": "stream",
          "text": [
            "8398748\n",
            "3990456\n",
            "2705994\n",
            "2325502\n",
            "1660272\n",
            "1584138\n"
          ]
        }
      ],
      "source": [
        "six_cities = cities[0:6]\n",
        "\n",
        "for city in six_cities:\n",
        "    pop = city['2018estimate']\n",
        "    print(pop)"
      ]
    }
  ],
  "metadata": {
    "kernelspec": {
      "display_name": "Python 3",
      "language": "python",
      "name": "python3"
    },
    "language_info": {
      "codemirror_mode": {
        "name": "ipython",
        "version": 3
      },
      "file_extension": ".py",
      "mimetype": "text/x-python",
      "name": "python",
      "nbconvert_exporter": "python",
      "pygments_lexer": "ipython3",
      "version": "3.8.6"
    },
    "colab": {
      "provenance": []
    }
  },
  "nbformat": 4,
  "nbformat_minor": 0
}