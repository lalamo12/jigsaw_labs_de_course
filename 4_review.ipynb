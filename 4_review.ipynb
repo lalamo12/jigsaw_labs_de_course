{
  "cells": [
    {
      "cell_type": "markdown",
      "metadata": {
        "id": "c7S_7n_reHaT"
      },
      "source": [
        "# Reinforcing our Skills"
      ]
    },
    {
      "cell_type": "markdown",
      "metadata": {
        "id": "5pgxRz7AeHaV"
      },
      "source": [
        "## Introduction"
      ]
    },
    {
      "cell_type": "markdown",
      "metadata": {
        "id": "Wi6nRHmPeHaV"
      },
      "source": [
        "This is a good time to reinforce our knowledge before continuing on our journey.  Right now, we're on a water break, regaining our strength.\n",
        "\n",
        "We'll take this time to review what we've learned, as well as get a few coding tips before moving forward.  "
      ]
    },
    {
      "cell_type": "markdown",
      "metadata": {
        "id": "1wOc9F0peHaW"
      },
      "source": [
        "### Variables, Text, and Numbers"
      ]
    },
    {
      "cell_type": "markdown",
      "metadata": {
        "id": "8bmNE0h8eHaW"
      },
      "source": [
        "* Variables"
      ]
    },
    {
      "cell_type": "code",
      "execution_count": null,
      "metadata": {
        "id": "7J7cn9yJeHaW"
      },
      "outputs": [],
      "source": [
        "greeting = 'hello'"
      ]
    },
    {
      "cell_type": "markdown",
      "metadata": {
        "id": "B-pxIjhleHaX"
      },
      "source": [
        "> Press shift + enter on the cell above."
      ]
    },
    {
      "cell_type": "markdown",
      "metadata": {
        "id": "oRP-wcOOeHaX"
      },
      "source": [
        "Above is our variable.  Variables are used to store data.  Remember that when we assign a variable, we do not see any output below.  We only see an output when we *retrieve* the variable.  "
      ]
    },
    {
      "cell_type": "code",
      "execution_count": null,
      "metadata": {
        "id": "1FitjudIeHaX",
        "outputId": "ea3172ff-d0a2-4fa4-a491-e5d00aa446d1"
      },
      "outputs": [
        {
          "data": {
            "text/plain": [
              "'hello'"
            ]
          },
          "execution_count": 3,
          "metadata": {},
          "output_type": "execute_result"
        }
      ],
      "source": [
        "greeting"
      ]
    },
    {
      "cell_type": "markdown",
      "metadata": {
        "id": "UGez-I4xeHaY"
      },
      "source": [
        "* Text "
      ]
    },
    {
      "cell_type": "markdown",
      "metadata": {
        "id": "JBTNkoiHeHaY"
      },
      "source": [
        "Let's take a moment to talk about text.  The official word for text is a *string*.  \n",
        "\n",
        "So above, `'hello'` is a string.\n",
        "\n",
        "The main thing for us to know about strings is that we must wrap our strings in quotes -- single or double quotes work fine, but we mainly use single quotes."
      ]
    },
    {
      "cell_type": "code",
      "execution_count": null,
      "metadata": {
        "id": "oJ5icJOzeHaY",
        "outputId": "3b46750f-6163-4638-ca39-ce4283819508"
      },
      "outputs": [
        {
          "data": {
            "text/plain": [
              "'ok'"
            ]
          },
          "execution_count": 5,
          "metadata": {},
          "output_type": "execute_result"
        }
      ],
      "source": [
        "'ok'"
      ]
    },
    {
      "cell_type": "markdown",
      "metadata": {
        "id": "irfr7lYjeHaY"
      },
      "source": [
        "If we do not wrap our string in quotes, we will see an error, as Python will think we are trying to retreive a variable that we never defined."
      ]
    },
    {
      "cell_type": "code",
      "execution_count": null,
      "metadata": {
        "id": "35U5lY-DeHaY",
        "outputId": "987d1a6e-63e3-4878-9ce1-7181c73b7247"
      },
      "outputs": [
        {
          "ename": "NameError",
          "evalue": "name 'ok' is not defined",
          "output_type": "error",
          "traceback": [
            "\u001b[0;31m---------------------------------------------------------------------------\u001b[0m",
            "\u001b[0;31mNameError\u001b[0m                                 Traceback (most recent call last)",
            "\u001b[0;32m<ipython-input-27-92a949fd4184>\u001b[0m in \u001b[0;36m<module>\u001b[0;34m\u001b[0m\n\u001b[0;32m----> 1\u001b[0;31m \u001b[0mok\u001b[0m\u001b[0;34m\u001b[0m\u001b[0;34m\u001b[0m\u001b[0m\n\u001b[0m",
            "\u001b[0;31mNameError\u001b[0m: name 'ok' is not defined"
          ]
        }
      ],
      "source": [
        "ok"
      ]
    },
    {
      "cell_type": "markdown",
      "metadata": {
        "id": "uAh2agPzeHaZ"
      },
      "source": [
        "* Numbers"
      ]
    },
    {
      "cell_type": "markdown",
      "metadata": {
        "id": "GgIauw0YeHaZ"
      },
      "source": [
        "Numbers by contrast, do not use quotation marks."
      ]
    },
    {
      "cell_type": "code",
      "execution_count": null,
      "metadata": {
        "id": "37YfO22reHaZ",
        "outputId": "c14211a4-3412-486c-ff64-8752412cd9a4"
      },
      "outputs": [
        {
          "data": {
            "text/plain": [
              "7"
            ]
          },
          "execution_count": 6,
          "metadata": {},
          "output_type": "execute_result"
        }
      ],
      "source": [
        "3 + 4"
      ]
    },
    {
      "cell_type": "markdown",
      "metadata": {
        "id": "cPL_BjDneHaZ"
      },
      "source": [
        "* Comments"
      ]
    },
    {
      "cell_type": "markdown",
      "metadata": {
        "id": "RYYYsxzceHaZ"
      },
      "source": [
        "`Comments` begin with a hashtag and have no impact on the code.  Instead, they allow us to add a note about our code.  Throughout our lessons, we use comments to allow you to check your work.  If the comment matches what you see below, you did it correctly. "
      ]
    },
    {
      "cell_type": "code",
      "execution_count": null,
      "metadata": {
        "id": "ZO1Gbqd5eHaZ",
        "outputId": "e3d1c022-6f8e-47a6-ad5b-13fa275580fa"
      },
      "outputs": [
        {
          "data": {
            "text/plain": [
              "10"
            ]
          },
          "execution_count": 28,
          "metadata": {},
          "output_type": "execute_result"
        }
      ],
      "source": [
        "num = 3 + 7\n",
        "num\n",
        "# 10"
      ]
    },
    {
      "cell_type": "markdown",
      "metadata": {
        "id": "GcArUlP3eHaZ"
      },
      "source": [
        "### Creating Collections"
      ]
    },
    {
      "cell_type": "markdown",
      "metadata": {
        "id": "7Sgi5RwSeHaZ"
      },
      "source": [
        "Next, we saw two types of collections: lists and dictionaries."
      ]
    },
    {
      "cell_type": "markdown",
      "metadata": {
        "id": "MjLvprsEeHaZ"
      },
      "source": [
        "* Lists"
      ]
    },
    {
      "cell_type": "markdown",
      "metadata": {
        "id": "vdCUPDc0eHaa"
      },
      "source": [
        "Lists are an ordered collection of data.  We create a list with the square brackets."
      ]
    },
    {
      "cell_type": "code",
      "execution_count": null,
      "metadata": {
        "id": "51gNLY5LeHaa"
      },
      "outputs": [],
      "source": [
        "cities = ['nyc', 'la', 'chicago']"
      ]
    },
    {
      "cell_type": "markdown",
      "metadata": {
        "id": "_eJ6xHnneHaa"
      },
      "source": [
        "With lists, we generally, describe a group of *different items*. Notice how each element in the list above represents a different city."
      ]
    },
    {
      "cell_type": "markdown",
      "metadata": {
        "id": "Gb3TpYndeHaa"
      },
      "source": [
        "* Dictionaries "
      ]
    },
    {
      "cell_type": "markdown",
      "metadata": {
        "id": "0nWRH3EGeHaa"
      },
      "source": [
        "We create dictionaries with the squiggly brackets."
      ]
    },
    {
      "cell_type": "code",
      "execution_count": null,
      "metadata": {
        "id": "CGRp3n9keHaa"
      },
      "outputs": [],
      "source": [
        "chicago =  {'name': 'chicago', 'population': 2716000}"
      ]
    },
    {
      "cell_type": "markdown",
      "metadata": {
        "id": "YQWAAUPCeHaa"
      },
      "source": [
        "Our dictionaries often represent *just one item*, and we use the key value pairs to describe different attributes of our item.  \n",
        "> In the dictionary above, the keys are `name` and `population`. \n",
        "> \n",
        "> The values are `chicago` and `2716000`."
      ]
    },
    {
      "cell_type": "markdown",
      "metadata": {
        "id": "i8-PZ-6neHaa"
      },
      "source": [
        "### Retrieving Elements"
      ]
    },
    {
      "cell_type": "markdown",
      "metadata": {
        "id": "V5vXk3HceHaa"
      },
      "source": [
        "We retrieve information from the both lists and dictionaries using the square brackets."
      ]
    },
    {
      "cell_type": "markdown",
      "metadata": {
        "id": "_rXI-a6ReHaa"
      },
      "source": [
        "> With lists, we provide the index of the element we wish to retrieve, beginning with zero."
      ]
    },
    {
      "cell_type": "markdown",
      "metadata": {
        "id": "qoRyAZuDeHaa"
      },
      "source": [
        "Retrieve the first element from cities below."
      ]
    },
    {
      "cell_type": "code",
      "execution_count": null,
      "metadata": {
        "id": "McRcR97ReHaa"
      },
      "outputs": [],
      "source": [
        "cities = ['nyc', 'la', 'chicago']\n",
        "\n",
        "# 'nyc'"
      ]
    },
    {
      "cell_type": "markdown",
      "metadata": {
        "id": "lZKQw_ePeHaa"
      },
      "source": [
        "> With dictionaries, we provide the key and get back the value."
      ]
    },
    {
      "cell_type": "markdown",
      "metadata": {
        "id": "2oMwXr03eHaa"
      },
      "source": [
        "Retreive the population from chicago below."
      ]
    },
    {
      "cell_type": "code",
      "execution_count": null,
      "metadata": {
        "id": "yxwlGNlxeHaa",
        "outputId": "08ac1b80-0be8-4f72-954b-03a8ebe02e7d"
      },
      "outputs": [
        {
          "data": {
            "text/plain": [
              "{'name': 'chicago', 'population': 2716000}"
            ]
          },
          "execution_count": 1,
          "metadata": {},
          "output_type": "execute_result"
        }
      ],
      "source": [
        "chicago =  {'name': 'chicago', 'population': 2716000}\n",
        "chicago\n",
        "# 2716000"
      ]
    },
    {
      "cell_type": "markdown",
      "metadata": {
        "id": "vW9enRlyeHab"
      },
      "source": [
        "In both cases, think of *asking questions of your data*.  \n",
        "\n",
        "* With **lists**, we ask:\n",
        "    * What is the element at the specified *index*.  \n",
        "* With **dictionaries** we ask:\n",
        "    * What information corresponds to this *key*.\n",
        "\n",
        "So when coding, we are always starting with the data, and then asking a question of it.  \n",
        "\n",
        "> Here are the answers to the above questions."
      ]
    },
    {
      "cell_type": "code",
      "execution_count": null,
      "metadata": {
        "id": "BapqhAhleHab"
      },
      "outputs": [],
      "source": [
        "cities[0]\n",
        "\n",
        "chicago['population']"
      ]
    },
    {
      "cell_type": "markdown",
      "metadata": {
        "id": "TD0kMJ6beHab"
      },
      "source": [
        "> So above, we started with the data, then asked the question."
      ]
    },
    {
      "cell_type": "markdown",
      "metadata": {
        "id": "P8yS0ZiDeHab"
      },
      "source": [
        "### General tips"
      ]
    },
    {
      "cell_type": "markdown",
      "metadata": {
        "id": "1JBg44iOeHab"
      },
      "source": [
        "1. Remember that coding is problem solving"
      ]
    },
    {
      "cell_type": "markdown",
      "metadata": {
        "id": "VpaybgkGeHab"
      },
      "source": [
        "When people begin coding, they often focus so much on the syntax (do I use square brackets or squiggly brackets), that they forget to think about the logic of the process they want to solve.  My suggestion is, focus on the logic first, and only then, worry about the syntax.  \n",
        "\n",
        "Lots of times it helps to first write the logic in comments, and then fill in code."
      ]
    },
    {
      "cell_type": "code",
      "execution_count": null,
      "metadata": {
        "id": "xpfpgKXmeHab",
        "outputId": "3450c1ce-3e30-42c8-d0a2-20f94b13b0d3"
      },
      "outputs": [
        {
          "data": {
            "text/plain": [
              "'nyc'"
            ]
          },
          "execution_count": 34,
          "metadata": {},
          "output_type": "execute_result"
        }
      ],
      "source": [
        "# get the first city\n",
        "cities[0]"
      ]
    },
    {
      "cell_type": "markdown",
      "metadata": {
        "id": "Gq_lvs_UeHab"
      },
      "source": [
        "2. Error messages are to be loved, not feared"
      ]
    },
    {
      "cell_type": "markdown",
      "metadata": {
        "id": "Jyxn8U2XeHab"
      },
      "source": [
        "Reading an error message is quite important.  Let's walk through a few common error messages."
      ]
    },
    {
      "cell_type": "code",
      "execution_count": null,
      "metadata": {
        "id": "JAoYlLMeeHac",
        "outputId": "0d89ee97-a1d3-4051-9324-61c6cbde9daa"
      },
      "outputs": [
        {
          "ename": "NameError",
          "evalue": "name 'population' is not defined",
          "output_type": "error",
          "traceback": [
            "\u001b[0;31m---------------------------------------------------------------------------\u001b[0m",
            "\u001b[0;31mNameError\u001b[0m                                 Traceback (most recent call last)",
            "\u001b[0;32m<ipython-input-23-1c9894d40270>\u001b[0m in \u001b[0;36m<module>\u001b[0;34m\u001b[0m\n\u001b[1;32m      1\u001b[0m \u001b[0mcities\u001b[0m \u001b[0;34m=\u001b[0m \u001b[0;36m3\u001b[0m\u001b[0;34m\u001b[0m\u001b[0;34m\u001b[0m\u001b[0m\n\u001b[0;32m----> 2\u001b[0;31m \u001b[0mchicago\u001b[0m\u001b[0;34m[\u001b[0m\u001b[0mpopulation\u001b[0m\u001b[0;34m]\u001b[0m\u001b[0;34m\u001b[0m\u001b[0;34m\u001b[0m\u001b[0m\n\u001b[0m",
            "\u001b[0;31mNameError\u001b[0m: name 'population' is not defined"
          ]
        }
      ],
      "source": [
        "cities = 3\n",
        "chicago[population]"
      ]
    },
    {
      "cell_type": "markdown",
      "metadata": {
        "id": "RKfgHYtneHac"
      },
      "source": [
        "We read error messages starting from the bottom, and then move to the top.  At the bottom, we see `name 'population' is not defined`.  \n",
        "\n",
        "> This tells us that Python thinks we are trying to read a variable, that we never declared.\n",
        "\n",
        "Notice in the red error box above, there is an arrow.  \n",
        "\n",
        "Python is telling us where it believes the error is located (Python is not always correct in it's guess).  Here, the problem is that we are using a variable `population`, when we should be using a string.  In other words, we should wrap `population` in quotation marks."
      ]
    },
    {
      "cell_type": "code",
      "execution_count": null,
      "metadata": {
        "id": "aUakBAqAeHac",
        "outputId": "f7c03e02-c321-4964-caa2-f5533d78e761"
      },
      "outputs": [
        {
          "data": {
            "text/plain": [
              "2716000"
            ]
          },
          "execution_count": 35,
          "metadata": {},
          "output_type": "execute_result"
        }
      ],
      "source": [
        "chicago[\"population\"]"
      ]
    },
    {
      "cell_type": "markdown",
      "metadata": {
        "id": "6WT4w0-qeHac"
      },
      "source": [
        "Let's go to the next error."
      ]
    },
    {
      "cell_type": "code",
      "execution_count": null,
      "metadata": {
        "id": "6K6DnDW6eHac",
        "outputId": "c2fd07ff-976e-465d-cf8e-c733f27557a4"
      },
      "outputs": [
        {
          "ename": "TypeError",
          "evalue": "'int' object is not subscriptable",
          "output_type": "error",
          "traceback": [
            "\u001b[0;31m---------------------------------------------------------------------------\u001b[0m",
            "\u001b[0;31mTypeError\u001b[0m                                 Traceback (most recent call last)",
            "\u001b[0;32m<ipython-input-24-8e277aba1488>\u001b[0m in \u001b[0;36m<module>\u001b[0;34m\u001b[0m\n\u001b[0;32m----> 1\u001b[0;31m \u001b[0mcities\u001b[0m\u001b[0;34m[\u001b[0m\u001b[0;36m0\u001b[0m\u001b[0;34m]\u001b[0m\u001b[0;34m\u001b[0m\u001b[0;34m\u001b[0m\u001b[0m\n\u001b[0m",
            "\u001b[0;31mTypeError\u001b[0m: 'int' object is not subscriptable"
          ]
        }
      ],
      "source": [
        "cities[0]"
      ]
    },
    {
      "cell_type": "markdown",
      "metadata": {
        "id": "zg0ZWhzoeHac"
      },
      "source": [
        "Here, starting from the bottom, `object is not subscriptable` means we are trying to access elements from something that is not a list.  \n",
        "\n",
        "Oftentimes, errors occur because we think a variable is one thing but it is really something else (like a list when it's really a number).  A great way to solve the problem is simply to look at the variable.   "
      ]
    },
    {
      "cell_type": "code",
      "execution_count": null,
      "metadata": {
        "id": "rP8YuyqfeHac",
        "outputId": "60a88f6b-7b55-4b58-d657-d789f0d436d1"
      },
      "outputs": [
        {
          "data": {
            "text/plain": [
              "3"
            ]
          },
          "execution_count": 25,
          "metadata": {},
          "output_type": "execute_result"
        }
      ],
      "source": [
        "cities"
      ]
    },
    {
      "cell_type": "markdown",
      "metadata": {
        "id": "eq4FHY0QeHac"
      },
      "source": [
        "Of course it doesn't make sense to write `3[0]`."
      ]
    },
    {
      "cell_type": "markdown",
      "metadata": {
        "id": "RwQ8EnEneHac"
      },
      "source": [
        "That's a good start to understanding error messages.  The main point is to read the error message beginning at the bottom, and to look at the arrow where Python thinks the error is located."
      ]
    },
    {
      "cell_type": "markdown",
      "metadata": {
        "id": "KL4kJg3leHac"
      },
      "source": [
        "3. Pay attention to the colors."
      ]
    },
    {
      "cell_type": "markdown",
      "metadata": {
        "id": "wXEmvXhEeHac"
      },
      "source": [
        "In addition to using error messages, look at the *colors* in the cells to check your work.  Our colors should line up with our code."
      ]
    },
    {
      "cell_type": "code",
      "execution_count": null,
      "metadata": {
        "id": "OfD6T-yLeHac",
        "outputId": "258ec1b2-3839-4b43-c2bf-f55031cbe646"
      },
      "outputs": [
        {
          "ename": "SyntaxError",
          "evalue": "EOL while scanning string literal (<ipython-input-2-bb547c35b46c>, line 1)",
          "output_type": "error",
          "traceback": [
            "\u001b[0;36m  File \u001b[0;32m\"<ipython-input-2-bb547c35b46c>\"\u001b[0;36m, line \u001b[0;32m1\u001b[0m\n\u001b[0;31m    chicago[\"population]\u001b[0m\n\u001b[0m                        ^\u001b[0m\n\u001b[0;31mSyntaxError\u001b[0m\u001b[0;31m:\u001b[0m EOL while scanning string literal\n"
          ]
        }
      ],
      "source": [
        "chicago[\"population]"
      ]
    },
    {
      "cell_type": "markdown",
      "metadata": {
        "id": "d87n-EobeHac"
      },
      "source": [
        "> Above, our string should end with the end of the word population.  But we forgot a quotation mark, so we see red continuing on through our square bracket to the end of the line (or EOL in the error message above)."
      ]
    },
    {
      "cell_type": "code",
      "execution_count": null,
      "metadata": {
        "id": "IABF8WyNeHad",
        "outputId": "8197c04e-8c2f-4f98-8fe9-1891b0900c14"
      },
      "outputs": [
        {
          "ename": "SyntaxError",
          "evalue": "invalid token (<ipython-input-3-f3090eece2a9>, line 1)",
          "output_type": "error",
          "traceback": [
            "\u001b[0;36m  File \u001b[0;32m\"<ipython-input-3-f3090eece2a9>\"\u001b[0;36m, line \u001b[0;32m1\u001b[0m\n\u001b[0;31m    3_blind_mice = 'movie'\u001b[0m\n\u001b[0m     ^\u001b[0m\n\u001b[0;31mSyntaxError\u001b[0m\u001b[0;31m:\u001b[0m invalid token\n"
          ]
        }
      ],
      "source": [
        "3_blind_mice = 'movie'"
      ]
    },
    {
      "cell_type": "markdown",
      "metadata": {
        "id": "QQZyy3YkeHad"
      },
      "source": [
        "> Above, we see 3 is interpreted as a number, not the beginning of a variable.  (We cannot begin our variables with a number.)"
      ]
    },
    {
      "cell_type": "markdown",
      "metadata": {
        "id": "0h3cMsC7eHad"
      },
      "source": [
        "The overall point is that our colors should line up with our code.  Use the colors.  They help you debug your code."
      ]
    },
    {
      "cell_type": "markdown",
      "metadata": {
        "id": "DUg02Y69eHad"
      },
      "source": [
        "### Summary"
      ]
    },
    {
      "cell_type": "markdown",
      "metadata": {
        "id": "-P9VBNi0eHad"
      },
      "source": [
        "In this lesson, we learned some general tips about coding.\n",
        "\n",
        "The first tip is to remember that coding is more about thinking how we can solve a problem than remembering syntax.  So think about, what data structure has the information you need (who do you ask your question to), and what are the steps to get the data you need.  You can write these steps out in a comment.  And then you can fill in with some syntax.\n",
        "\n",
        "Secondly, don't fear the error message.  Read the error message from the bottom up.  If you do not understand the error message, you can always Google it to try to understand what it is trying to tell you."
      ]
    },
    {
      "cell_type": "markdown",
      "metadata": {
        "id": "uEEuejCdeHad"
      },
      "source": [
        "<right> \n",
        "<a href=\"https://colab.research.google.com/github/jigsawlabs-student/code-intro/blob/master/5-introduction-to-loops.ipynb\">\n",
        "<img src=\"https://github.com/jigsawlabs-student/code-intro/blob/master/next-yellow.jpg?raw=1\" align=\"right\" style=\"padding-right: 20px\" width=\"10%\">\n",
        "    </a>\n",
        "</right>"
      ]
    },
    {
      "cell_type": "markdown",
      "metadata": {
        "id": "y-4LcNeSeHad"
      },
      "source": [
        "<center>\n",
        "<a href=\"https://www.jigsawlabs.io\" style=\"position: center\"><img src=\"https://github.com/jigsawlabs-student/code-intro/blob/master/jigsaw-icon.png?raw=1\" width=\"15%\" style=\"text-align: center\"></a>\n",
        "</center>"
      ]
    },
    {
      "cell_type": "markdown",
      "metadata": {
        "id": "5B0SuGfdeHad"
      },
      "source": [
        "> Remember the Table of Contents is always available by clicking on the Jigsaw Labs Logo, and any videos are available [here](https://www.youtube.com/watch?v=OfWwfTXGjBM&list=PLCG6Te769p1gkVJizwSmo6GoEI9oHoAPA&index=2&ab_channel=JigsawLabs)."
      ]
    }
  ],
  "metadata": {
    "kernelspec": {
      "display_name": "Python 3",
      "language": "python",
      "name": "python3"
    },
    "language_info": {
      "codemirror_mode": {
        "name": "ipython",
        "version": 3
      },
      "file_extension": ".py",
      "mimetype": "text/x-python",
      "name": "python",
      "nbconvert_exporter": "python",
      "pygments_lexer": "ipython3",
      "version": "3.8.6"
    },
    "colab": {
      "provenance": []
    }
  },
  "nbformat": 4,
  "nbformat_minor": 0
}